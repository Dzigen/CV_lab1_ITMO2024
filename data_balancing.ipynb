{
 "cells": [
  {
   "cell_type": "markdown",
   "metadata": {},
   "source": [
    "<b>Назначение:</b> <br>\n",
    "Балансировка классов в исходной выборке"
   ]
  },
  {
   "cell_type": "code",
   "execution_count": 16,
   "metadata": {},
   "outputs": [],
   "source": [
    "import pandas as pd\n",
    "import os \n",
    "import numpy as np\n",
    "from tqdm import tqdm\n",
    "import random\n",
    "import cv2\n",
    "import xxhash\n",
    "import albumentations as A\n",
    "import matplotlib.pyplot as plt\n",
    "from collections import Counter"
   ]
  },
  {
   "cell_type": "code",
   "execution_count": 17,
   "metadata": {},
   "outputs": [],
   "source": [
    "DATA_INFO_CSV = './data/confirmed_fronts_info.csv'\n",
    "AUGMENTATION_INFO_CSV = './data/augmented_fronts_info.csv'\n",
    "AUG_FOLDER = './data/augmented_fronts'\n",
    "UPPER_BOUND = 6000\n",
    "LOWER_BOUND = 200"
   ]
  },
  {
   "cell_type": "code",
   "execution_count": 18,
   "metadata": {},
   "outputs": [],
   "source": [
    "data_info = pd.read_csv(DATA_INFO_CSV, sep=';')"
   ]
  },
  {
   "cell_type": "code",
   "execution_count": 19,
   "metadata": {},
   "outputs": [],
   "source": [
    "UNIQUE_LABELS = data_info['label'].unique().tolist()"
   ]
  },
  {
   "cell_type": "code",
   "execution_count": 20,
   "metadata": {},
   "outputs": [],
   "source": [
    "TRANSFORM_PIPELINE = A.Compose([\n",
    "    #A.ColorJitter(brightness=0.5, contrast=0.5, saturation=0.5, hue=0, always_apply=True),\n",
    "    A.Rotate(border_mode=cv2.BORDER_REPLICATE, limit=180, always_apply=True),\n",
    "    A.Perspective(),\n",
    "    A.HorizontalFlip(),\n",
    "    ])"
   ]
  },
  {
   "cell_type": "code",
   "execution_count": 21,
   "metadata": {},
   "outputs": [
    {
     "name": "stdout",
     "output_type": "stream",
     "text": [
      "Minor class: Multicolour\n",
      "Gold:\n"
     ]
    },
    {
     "name": "stderr",
     "output_type": "stream",
     "text": [
      "  0%|          | 0/5783 [00:00<?, ?it/s]"
     ]
    },
    {
     "name": "stderr",
     "output_type": "stream",
     "text": [
      "100%|██████████| 5783/5783 [00:21<00:00, 274.16it/s]\n"
     ]
    },
    {
     "name": "stdout",
     "output_type": "stream",
     "text": [
      "Brown:\n"
     ]
    },
    {
     "name": "stderr",
     "output_type": "stream",
     "text": [
      "100%|██████████| 5089/5089 [00:18<00:00, 272.82it/s]\n"
     ]
    },
    {
     "name": "stdout",
     "output_type": "stream",
     "text": [
      "Beige:\n"
     ]
    },
    {
     "name": "stderr",
     "output_type": "stream",
     "text": [
      "100%|██████████| 5400/5400 [00:19<00:00, 274.37it/s]\n"
     ]
    },
    {
     "name": "stdout",
     "output_type": "stream",
     "text": [
      "Green:\n"
     ]
    },
    {
     "name": "stderr",
     "output_type": "stream",
     "text": [
      "100%|██████████| 5223/5223 [00:19<00:00, 274.10it/s]\n"
     ]
    },
    {
     "name": "stdout",
     "output_type": "stream",
     "text": [
      "Bronze:\n"
     ]
    },
    {
     "name": "stderr",
     "output_type": "stream",
     "text": [
      "100%|██████████| 5671/5671 [00:20<00:00, 273.88it/s]\n"
     ]
    },
    {
     "name": "stdout",
     "output_type": "stream",
     "text": [
      "Orange:\n"
     ]
    },
    {
     "name": "stderr",
     "output_type": "stream",
     "text": [
      "100%|██████████| 5441/5441 [00:19<00:00, 272.67it/s]\n"
     ]
    },
    {
     "name": "stdout",
     "output_type": "stream",
     "text": [
      "Yellow:\n"
     ]
    },
    {
     "name": "stderr",
     "output_type": "stream",
     "text": [
      "100%|██████████| 5333/5333 [00:19<00:00, 269.24it/s]\n"
     ]
    },
    {
     "name": "stdout",
     "output_type": "stream",
     "text": [
      "Purple:\n"
     ]
    },
    {
     "name": "stderr",
     "output_type": "stream",
     "text": [
      "100%|██████████| 5638/5638 [00:20<00:00, 272.23it/s]"
     ]
    },
    {
     "name": "stdout",
     "output_type": "stream",
     "text": [
      "Minor class: Burgundy\n",
      "Minor class: Navy\n",
      "Minor class: Turquoise\n",
      "Minor class: Magenta\n",
      "Minor class: Pink\n",
      "Minor class: Maroon\n",
      "Minor class: Indigo\n"
     ]
    },
    {
     "name": "stderr",
     "output_type": "stream",
     "text": [
      "\n"
     ]
    }
   ],
   "source": [
    "aug_tmp = []\n",
    "minor_classes = []\n",
    "image_size = []\n",
    "\n",
    "for label_name in UNIQUE_LABELS:\n",
    "    # Пропус классов, размерность которых не \n",
    "    # соответствует заданным границам\n",
    "    label_idxs = data_info[data_info['label'] == label_name].index.tolist()\n",
    "    if len(label_idxs) >= UPPER_BOUND:\n",
    "        continue\n",
    "    if len(label_idxs) <= LOWER_BOUND:\n",
    "        print(f\"Minor class: {label_name}\")\n",
    "        minor_classes.append(label_name)\n",
    "        continue\n",
    "\n",
    "    # Выбор изображений для аугментации\n",
    "    aug_amount = UPPER_BOUND - len(label_idxs)\n",
    "    aug_idxs = label_idxs * (aug_amount // len(label_idxs))\n",
    "    aug_left = aug_amount - len(aug_idxs)\n",
    "    aug_idxs += random.choices(label_idxs, k=aug_left)\n",
    "\n",
    "    # Выполнение аугментации изображений\n",
    "    print(f\"{label_name}:\")\n",
    "    for aug_idx in tqdm(aug_idxs):\n",
    "        # load image\n",
    "        orig_image_path = data_info['relative_path'][aug_idx] + '/' + data_info['image_name'][aug_idx]\n",
    "        orig_image = cv2.imread(orig_image_path)\n",
    "        image_size.append(orig_image.shape)\n",
    "        orig_image_hash = xxhash.xxh64(orig_image).hexdigest()\n",
    "        \n",
    "        # augment image\n",
    "        aug_image = TRANSFORM_PIPELINE(image=orig_image)\n",
    "        aug_image = aug_image[\"image\"]\n",
    "        aug_image_hash = xxhash.xxh64(aug_image).hexdigest()\n",
    "\n",
    "        # save image\n",
    "        relative_path = AUG_FOLDER\n",
    "        image_name = f\"{aug_idx}$${aug_image_hash}$${label_name}.jpg\"\n",
    "        aug_image_path = f\"{relative_path}/{image_name}\" \n",
    "        cv2.imwrite(aug_image_path, aug_image)\n",
    "        \n",
    "        # add info about image into table\n",
    "        aug_tmp.append([relative_path, image_name, label_name])\n",
    "\n",
    "aug_df = pd.DataFrame(aug_tmp, columns=['relative_path','image_name', 'label'])"
   ]
  },
  {
   "cell_type": "code",
   "execution_count": 26,
   "metadata": {},
   "outputs": [],
   "source": [
    "aug_df.to_csv(AUGMENTATION_INFO_CSV, sep=';', index=False)"
   ]
  },
  {
   "cell_type": "code",
   "execution_count": 27,
   "metadata": {},
   "outputs": [
    {
     "data": {
      "text/plain": [
       "Counter({(300, 300, 3): 43578})"
      ]
     },
     "execution_count": 27,
     "metadata": {},
     "output_type": "execute_result"
    }
   ],
   "source": [
    "Counter(image_size)"
   ]
  },
  {
   "cell_type": "code",
   "execution_count": 28,
   "metadata": {},
   "outputs": [
    {
     "data": {
      "text/plain": [
       "['Multicolour',\n",
       " 'Burgundy',\n",
       " 'Navy',\n",
       " 'Turquoise',\n",
       " 'Magenta',\n",
       " 'Pink',\n",
       " 'Maroon',\n",
       " 'Indigo']"
      ]
     },
     "execution_count": 28,
     "metadata": {},
     "output_type": "execute_result"
    }
   ],
   "source": [
    "minor_classes"
   ]
  },
  {
   "cell_type": "code",
   "execution_count": 29,
   "metadata": {},
   "outputs": [
    {
     "data": {
      "text/plain": [
       "Counter({'Gold': 5783,\n",
       "         'Bronze': 5671,\n",
       "         'Purple': 5638,\n",
       "         'Orange': 5441,\n",
       "         'Beige': 5400,\n",
       "         'Yellow': 5333,\n",
       "         'Green': 5223,\n",
       "         'Brown': 5089})"
      ]
     },
     "execution_count": 29,
     "metadata": {},
     "output_type": "execute_result"
    }
   ],
   "source": [
    "Counter(aug_df['label'])"
   ]
  },
  {
   "cell_type": "code",
   "execution_count": null,
   "metadata": {},
   "outputs": [],
   "source": []
  }
 ],
 "metadata": {
  "kernelspec": {
   "display_name": "base",
   "language": "python",
   "name": "python3"
  },
  "language_info": {
   "codemirror_mode": {
    "name": "ipython",
    "version": 3
   },
   "file_extension": ".py",
   "mimetype": "text/x-python",
   "name": "python",
   "nbconvert_exporter": "python",
   "pygments_lexer": "ipython3",
   "version": "3.11.4"
  }
 },
 "nbformat": 4,
 "nbformat_minor": 2
}
