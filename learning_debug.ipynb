{
 "cells": [
  {
   "cell_type": "code",
   "execution_count": 1,
   "metadata": {},
   "outputs": [],
   "source": [
    "import torch\n",
    "import transformers\n",
    "from tqdm import tqdm\n",
    "import torch.nn as nn\n",
    "import numpy as np\n",
    "from sklearn.metrics import f1_score\n",
    "import gc\n",
    "import json\n",
    "from time import time\n",
    "import os\n",
    "import albumentations as A\n",
    "import cv2\n",
    "from dataclasses import dataclass"
   ]
  },
  {
   "cell_type": "code",
   "execution_count": 2,
   "metadata": {},
   "outputs": [],
   "source": [
    "from src.neural_nets import *\n",
    "from src.utils import *\n",
    "from src.train_utils import *\n",
    "from transformers import AutoImageProcessor\n",
    "import json\n",
    "from torch.utils.data import DataLoader"
   ]
  },
  {
   "cell_type": "code",
   "execution_count": 3,
   "metadata": {},
   "outputs": [],
   "source": [
    "# По конфигу начать обучение\n",
    "with open(CONFIG_FILE_JSON, 'r', encoding='utf-8') as fd:\n",
    "    json_obj = json.loads(fd.read())\n",
    "learn_config = LearningConfig(**json_obj)"
   ]
  },
  {
   "cell_type": "code",
   "execution_count": 4,
   "metadata": {},
   "outputs": [
    {
     "name": "stdout",
     "output_type": "stream",
     "text": [
      "Выбран самописный СNN-based классификатор\n"
     ]
    }
   ],
   "source": [
    "if learn_config.model_name == 'resnet':\n",
    "    model = ResNet50Classifier(14)\n",
    "    proc_f = AutoImageProcessor.from_pretrained(RESNET_MODEL_NAME)\n",
    "    processor = lambda x: torch.tensor(proc_f(x)['pixel_values'][0])\n",
    "    print(\"Выбран ResNet-based классификатор\")\n",
    "\n",
    "elif learn_config.model_name == 'mask2former':\n",
    "    model = Mask2FormerClassifier(14)\n",
    "    proc_f = AutoImageProcessor.from_pretrained(M2F_MODEL_NAME)\n",
    "    processor = lambda x: torch.tensor(proc_f(x)['pixel_values'][0])\n",
    "    print(\"Выбран Mask2Former-based классификатор\")\n",
    "\n",
    "elif learn_config.model_name == 'mycnn':\n",
    "    model = MyCNNClassifier(14)\n",
    "    processor = lambda x: TRANSFORM_MYCNN(x)\n",
    "    print(\"Выбран самописный СNN-based классификатор\")\n",
    "\n",
    "else:\n",
    "    print(\"ERROR: Invalid model name!\")"
   ]
  },
  {
   "cell_type": "code",
   "execution_count": 5,
   "metadata": {},
   "outputs": [],
   "source": [
    "train_dataset = CustomCarDataset('train', TT_INFO, processor)\n",
    "eval_dataset = CustomCarDataset('eval', TT_INFO, processor)"
   ]
  },
  {
   "cell_type": "code",
   "execution_count": 6,
   "metadata": {},
   "outputs": [],
   "source": [
    "# Dataloader\n",
    "train_dataloader = DataLoader(train_dataset, batch_size=learn_config.batch_size, \n",
    "                              shuffle=True, \n",
    "                              collate_fn=custom_collate)\n",
    "eval_dataloader = DataLoader(eval_dataset, batch_size=learn_config.batch_size,\n",
    "                              collate_fn=custom_collate)"
   ]
  },
  {
   "cell_type": "code",
   "execution_count": 7,
   "metadata": {},
   "outputs": [],
   "source": [
    "x = model(next(iter(train_dataloader))['images'])"
   ]
  },
  {
   "cell_type": "code",
   "execution_count": 14,
   "metadata": {},
   "outputs": [
    {
     "data": {
      "text/plain": [
       "tensor([ 8,  8, 10,  6, 10,  8, 13,  2])"
      ]
     },
     "execution_count": 14,
     "metadata": {},
     "output_type": "execute_result"
    }
   ],
   "source": [
    "torch.argmax(x, dim=-1)"
   ]
  },
  {
   "cell_type": "code",
   "execution_count": 17,
   "metadata": {},
   "outputs": [
    {
     "data": {
      "text/plain": [
       "1.0"
      ]
     },
     "execution_count": 17,
     "metadata": {},
     "output_type": "execute_result"
    }
   ],
   "source": [
    "f1_score([0,1,2,3],[0,1,2,3], average='micro')"
   ]
  },
  {
   "cell_type": "code",
   "execution_count": 18,
   "metadata": {},
   "outputs": [
    {
     "data": {
      "text/plain": [
       "1.0"
      ]
     },
     "execution_count": 18,
     "metadata": {},
     "output_type": "execute_result"
    }
   ],
   "source": [
    "accuracy_score([0,1,2,3],[0,1,2,3])"
   ]
  },
  {
   "cell_type": "code",
   "execution_count": 11,
   "metadata": {},
   "outputs": [],
   "source": [
    "l = next(iter(train_dataloader))['labels']"
   ]
  },
  {
   "cell_type": "code",
   "execution_count": 10,
   "metadata": {},
   "outputs": [],
   "source": [
    "criterion = nn.CrossEntropyLoss()"
   ]
  },
  {
   "cell_type": "code",
   "execution_count": 13,
   "metadata": {},
   "outputs": [
    {
     "data": {
      "text/plain": [
       "tensor(2.6381, grad_fn=<NllLossBackward0>)"
      ]
     },
     "execution_count": 13,
     "metadata": {},
     "output_type": "execute_result"
    }
   ],
   "source": [
    "criterion(x, l)"
   ]
  },
  {
   "cell_type": "code",
   "execution_count": 8,
   "metadata": {},
   "outputs": [
    {
     "data": {
      "text/plain": [
       "torch.Size([8, 14])"
      ]
     },
     "execution_count": 8,
     "metadata": {},
     "output_type": "execute_result"
    }
   ],
   "source": [
    "x.shape"
   ]
  },
  {
   "cell_type": "code",
   "execution_count": 11,
   "metadata": {},
   "outputs": [
    {
     "name": "stdout",
     "output_type": "stream",
     "text": [
      "Model parameters count:  199796\n",
      "Init folder to save\n",
      "Error: Директория существует\n"
     ]
    }
   ],
   "source": [
    "run(learn_config, model, train_dataloader, eval_dataloader)"
   ]
  },
  {
   "cell_type": "code",
   "execution_count": null,
   "metadata": {},
   "outputs": [],
   "source": []
  }
 ],
 "metadata": {
  "kernelspec": {
   "display_name": "base",
   "language": "python",
   "name": "python3"
  },
  "language_info": {
   "codemirror_mode": {
    "name": "ipython",
    "version": 3
   },
   "file_extension": ".py",
   "mimetype": "text/x-python",
   "name": "python",
   "nbconvert_exporter": "python",
   "pygments_lexer": "ipython3",
   "version": "3.11.4"
  }
 },
 "nbformat": 4,
 "nbformat_minor": 2
}
