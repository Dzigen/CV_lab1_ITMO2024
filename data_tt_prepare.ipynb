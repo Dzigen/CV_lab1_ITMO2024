{
 "cells": [
  {
   "cell_type": "markdown",
   "metadata": {},
   "source": [
    "<b>Назначение:</b> <br>\n",
    "Разбиение датасета на тренировочную и валидационную части"
   ]
  },
  {
   "cell_type": "code",
   "execution_count": 14,
   "metadata": {},
   "outputs": [],
   "source": [
    "from sklearn.model_selection import train_test_split\n",
    "import pandas as pd\n",
    "import numpy as np\n",
    "from collections import Counter"
   ]
  },
  {
   "cell_type": "code",
   "execution_count": 15,
   "metadata": {},
   "outputs": [],
   "source": [
    "AUG_INFO_CSV = './data/augmented_fronts_info.csv'\n",
    "DATA_INFO_CSV = './data/confirmed_fronts_info.csv'\n",
    "TT_INFO_CSV = './data/tt_union_fronts_info.csv'\n",
    "CLASS_SIZE = 6000\n",
    "RANDOM_STATE = 42"
   ]
  },
  {
   "cell_type": "code",
   "execution_count": 16,
   "metadata": {},
   "outputs": [],
   "source": [
    "aug_info = pd.read_csv(AUG_INFO_CSV, sep=';')\n",
    "data_info = pd.read_csv(DATA_INFO_CSV, sep=';')"
   ]
  },
  {
   "cell_type": "code",
   "execution_count": 17,
   "metadata": {},
   "outputs": [],
   "source": [
    "minor_classes = ['Multicolour','Burgundy','Navy',\n",
    "                 'Turquoise','Magenta','Pink',\n",
    "                 'Maroon','Indigo']\n",
    "\n",
    "# Дропаем минорные классы из датасета\n",
    "for label_name in minor_classes:\n",
    "    data_info = data_info.drop(index=data_info[data_info['label'] == label_name].index.tolist()).reset_index(drop=True)"
   ]
  },
  {
   "cell_type": "code",
   "execution_count": 18,
   "metadata": {},
   "outputs": [
    {
     "data": {
      "text/plain": [
       "Counter({'Black': 14317,\n",
       "         'Grey': 9474,\n",
       "         'White': 9395,\n",
       "         'Blue': 8483,\n",
       "         'Silver': 7770,\n",
       "         'Red': 6095,\n",
       "         'Brown': 911,\n",
       "         'Green': 777,\n",
       "         'Yellow': 667,\n",
       "         'Beige': 600,\n",
       "         'Orange': 559,\n",
       "         'Purple': 362,\n",
       "         'Bronze': 329,\n",
       "         'Gold': 217})"
      ]
     },
     "execution_count": 18,
     "metadata": {},
     "output_type": "execute_result"
    }
   ],
   "source": [
    "Counter(data_info['label'])"
   ]
  },
  {
   "cell_type": "code",
   "execution_count": 19,
   "metadata": {},
   "outputs": [],
   "source": [
    "union_info = pd.concat([aug_info, data_info]).reset_index(drop=True)"
   ]
  },
  {
   "cell_type": "code",
   "execution_count": 20,
   "metadata": {},
   "outputs": [
    {
     "name": "stdout",
     "output_type": "stream",
     "text": [
      "84000 84000\n"
     ]
    }
   ],
   "source": [
    "unique_labels = union_info['label'].unique().tolist()\n",
    "balanced_data_idxs = []\n",
    "for label_name in unique_labels:\n",
    "    balanced_data_idxs += union_info[union_info['label'] == label_name].index.tolist()[:CLASS_SIZE]\n",
    "\n",
    "y = union_info.iloc[balanced_data_idxs,:]['label']\n",
    "\n",
    "print(len(balanced_data_idxs), len(y))"
   ]
  },
  {
   "cell_type": "code",
   "execution_count": 21,
   "metadata": {},
   "outputs": [
    {
     "data": {
      "text/plain": [
       "Counter({'Gold': 6000,\n",
       "         'Brown': 6000,\n",
       "         'Beige': 6000,\n",
       "         'Green': 6000,\n",
       "         'Bronze': 6000,\n",
       "         'Orange': 6000,\n",
       "         'Yellow': 6000,\n",
       "         'Purple': 6000,\n",
       "         'Black': 6000,\n",
       "         'Red': 6000,\n",
       "         'White': 6000,\n",
       "         'Silver': 6000,\n",
       "         'Blue': 6000,\n",
       "         'Grey': 6000})"
      ]
     },
     "execution_count": 21,
     "metadata": {},
     "output_type": "execute_result"
    }
   ],
   "source": [
    "Counter(y)"
   ]
  },
  {
   "cell_type": "code",
   "execution_count": 22,
   "metadata": {},
   "outputs": [],
   "source": [
    "train_idxs, test_idxs, _, _ = train_test_split(balanced_data_idxs, y, \n",
    "                                                    test_size=0.20, \n",
    "                                                    random_state=RANDOM_STATE,\n",
    "                                                    shuffle=True,\n",
    "                                                    stratify=y)"
   ]
  },
  {
   "cell_type": "code",
   "execution_count": 23,
   "metadata": {},
   "outputs": [],
   "source": [
    "tt_info = union_info.iloc[train_idxs + test_idxs]\n",
    "tt_info.loc[tt_info.index.isin(train_idxs), ['part']] = 'train'\n",
    "tt_info.loc[tt_info.index.isin(test_idxs), ['part']] = 'eval'"
   ]
  },
  {
   "cell_type": "code",
   "execution_count": 24,
   "metadata": {},
   "outputs": [
    {
     "data": {
      "text/plain": [
       "(14,)"
      ]
     },
     "execution_count": 24,
     "metadata": {},
     "output_type": "execute_result"
    }
   ],
   "source": [
    "tt_info['label'].unique().shape"
   ]
  },
  {
   "cell_type": "code",
   "execution_count": 25,
   "metadata": {},
   "outputs": [],
   "source": [
    "tt_info.to_csv(TT_INFO_CSV, sep=';', index=False)"
   ]
  },
  {
   "cell_type": "code",
   "execution_count": null,
   "metadata": {},
   "outputs": [],
   "source": []
  },
  {
   "cell_type": "code",
   "execution_count": null,
   "metadata": {},
   "outputs": [],
   "source": []
  }
 ],
 "metadata": {
  "kernelspec": {
   "display_name": "base",
   "language": "python",
   "name": "python3"
  },
  "language_info": {
   "codemirror_mode": {
    "name": "ipython",
    "version": 3
   },
   "file_extension": ".py",
   "mimetype": "text/x-python",
   "name": "python",
   "nbconvert_exporter": "python",
   "pygments_lexer": "ipython3",
   "version": "3.11.4"
  }
 },
 "nbformat": 4,
 "nbformat_minor": 2
}
