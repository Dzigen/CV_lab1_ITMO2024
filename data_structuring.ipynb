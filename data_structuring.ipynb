{
 "cells": [
  {
   "cell_type": "markdown",
   "metadata": {},
   "source": [
    "<b>Назначение:</b> <br>\n",
    "Формирование таблицы с путями до изображений и их классами "
   ]
  },
  {
   "cell_type": "code",
   "execution_count": 1,
   "metadata": {},
   "outputs": [],
   "source": [
    "import pandas as pd\n",
    "import numpy as np\n",
    "import os\n",
    "from collections import Counter\n",
    "import matplotlib.pyplot as plt"
   ]
  },
  {
   "cell_type": "code",
   "execution_count": 2,
   "metadata": {},
   "outputs": [],
   "source": [
    "DATA_FOLDER = './data/confirmed_fronts'\n",
    "DATA_INFO_CSV = './data/confirmed_fronts_info.csv'"
   ]
  },
  {
   "cell_type": "code",
   "execution_count": 3,
   "metadata": {},
   "outputs": [],
   "source": [
    "def traverse_dir(dir_path, func):\n",
    "    files = os.listdir(dir_path)\n",
    "\n",
    "    output = []\n",
    "    for file in files:\n",
    "        if file.endswith(\".jpg\"):\n",
    "            if file.split(\"$$\")[3] == '':\n",
    "                continue\n",
    "            output += func(dir_path, file)\n",
    "        else:\n",
    "            output += traverse_dir(f\"{dir_path}/{file}\", func)\n",
    "\n",
    "    return output\n",
    "\n",
    "def get_img_color(dir_path, file):\n",
    "    return [file.split('$$')[3]]\n",
    "\n",
    "def get_img_pathandcolor(dir_path, file):\n",
    "    return [(dir_path, file, file.split(\"$$\")[3])]"
   ]
  },
  {
   "cell_type": "code",
   "execution_count": 20,
   "metadata": {},
   "outputs": [
    {
     "name": "stdout",
     "output_type": "stream",
     "text": [
      "(61827, 3)\n"
     ]
    }
   ],
   "source": [
    "data_info = traverse_dir(DATA_FOLDER, get_img_pathandcolor)\n",
    "general_df = pd.DataFrame(data_info, columns=['relative_path','image_name', 'label'])\n",
    "print(general_df.shape)"
   ]
  },
  {
   "cell_type": "code",
   "execution_count": 24,
   "metadata": {},
   "outputs": [
    {
     "name": "stdout",
     "output_type": "stream",
     "text": [
      "1516\n",
      "(60311, 3)\n"
     ]
    }
   ],
   "source": [
    "to_drop_idxs = general_df[general_df['label'] == 'Unlisted'].index.tolist()\n",
    "print(len(to_drop_idxs))\n",
    "general_df.drop(index=to_drop_idxs, inplace=True)\n",
    "print(general_df.shape)"
   ]
  },
  {
   "cell_type": "code",
   "execution_count": 26,
   "metadata": {},
   "outputs": [],
   "source": [
    "general_df.to_csv(DATA_INFO_CSV, sep=';', index=False)"
   ]
  },
  {
   "cell_type": "code",
   "execution_count": 25,
   "metadata": {},
   "outputs": [
    {
     "data": {
      "text/plain": [
       "Counter({'Black': 14317,\n",
       "         'Grey': 9474,\n",
       "         'White': 9395,\n",
       "         'Blue': 8483,\n",
       "         'Silver': 7770,\n",
       "         'Red': 6095,\n",
       "         'Brown': 911,\n",
       "         'Green': 777,\n",
       "         'Yellow': 667,\n",
       "         'Beige': 600,\n",
       "         'Orange': 559,\n",
       "         'Purple': 362,\n",
       "         'Bronze': 329,\n",
       "         'Gold': 217,\n",
       "         'Multicolour': 196,\n",
       "         'Pink': 87,\n",
       "         'Turquoise': 26,\n",
       "         'Maroon': 26,\n",
       "         'Burgundy': 9,\n",
       "         'Magenta': 9,\n",
       "         'Navy': 1,\n",
       "         'Indigo': 1})"
      ]
     },
     "execution_count": 25,
     "metadata": {},
     "output_type": "execute_result"
    }
   ],
   "source": [
    "Counter(general_df['label'])"
   ]
  },
  {
   "cell_type": "code",
   "execution_count": null,
   "metadata": {},
   "outputs": [],
   "source": []
  }
 ],
 "metadata": {
  "kernelspec": {
   "display_name": "base",
   "language": "python",
   "name": "python3"
  },
  "language_info": {
   "codemirror_mode": {
    "name": "ipython",
    "version": 3
   },
   "file_extension": ".py",
   "mimetype": "text/x-python",
   "name": "python",
   "nbconvert_exporter": "python",
   "pygments_lexer": "ipython3",
   "version": "3.11.4"
  }
 },
 "nbformat": 4,
 "nbformat_minor": 2
}
