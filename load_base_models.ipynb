{
 "cells": [
  {
   "cell_type": "code",
   "execution_count": 8,
   "metadata": {},
   "outputs": [],
   "source": [
    "from transformers import AutoImageProcessor, Mask2FormerForUniversalSegmentation\n",
    "from transformers import AutoImageProcessor, ResNetForImageClassification\n",
    "import torch"
   ]
  },
  {
   "cell_type": "markdown",
   "metadata": {},
   "source": [
    "### ResNet (ImageNet)\n",
    "\n",
    "https://huggingface.co/microsoft/resnet-50"
   ]
  },
  {
   "cell_type": "code",
   "execution_count": 9,
   "metadata": {},
   "outputs": [],
   "source": [
    "RESNET_MODEL_NAME = \"microsoft/resnet-50\""
   ]
  },
  {
   "cell_type": "code",
   "execution_count": 10,
   "metadata": {},
   "outputs": [
    {
     "data": {
      "application/vnd.jupyter.widget-view+json": {
       "model_id": "25882342d134484b933626a8e9127c63",
       "version_major": 2,
       "version_minor": 0
      },
      "text/plain": [
       "model.safetensors:   0%|          | 0.00/102M [00:00<?, ?B/s]"
      ]
     },
     "metadata": {},
     "output_type": "display_data"
    },
    {
     "name": "stderr",
     "output_type": "stream",
     "text": [
      "Could not find image processor class in the image processor config or the model config. Loading based on pattern matching with the model's feature extractor configuration.\n"
     ]
    }
   ],
   "source": [
    "resnet = ResNetForImageClassification.from_pretrained(RESNET_MODEL_NAME)\n",
    "resnet_processor = AutoImageProcessor.from_pretrained(RESNET_MODEL_NAME)"
   ]
  },
  {
   "cell_type": "code",
   "execution_count": 12,
   "metadata": {},
   "outputs": [
    {
     "data": {
      "text/plain": [
       "['./base_models/microsoft_resnet50/preprocessor_config.json']"
      ]
     },
     "execution_count": 12,
     "metadata": {},
     "output_type": "execute_result"
    }
   ],
   "source": [
    "resnet.save_pretrained(\"./base_models/microsoft_resnet50\")\n",
    "resnet_processor.save_pretrained(\"./base_models/microsoft_resnet50\")"
   ]
  },
  {
   "cell_type": "markdown",
   "metadata": {},
   "source": [
    "### MASK2FORMER (Cityscapes)\n",
    "\n",
    "https://huggingface.co/facebook/mask2former-swin-large-cityscapes-semantic/tree/main"
   ]
  },
  {
   "cell_type": "code",
   "execution_count": 3,
   "metadata": {},
   "outputs": [],
   "source": [
    "M2F_MODEL_NAME = \"facebook/mask2former-swin-large-cityscapes-semantic\""
   ]
  },
  {
   "cell_type": "code",
   "execution_count": 6,
   "metadata": {},
   "outputs": [],
   "source": [
    "# load Mask2Former fine-tuned on Cityscapes semantic segmentation\n",
    "m2f_processor = AutoImageProcessor.from_pretrained(M2F_MODEL_NAME)\n",
    "m2f = Mask2FormerForUniversalSegmentation.from_pretrained(M2F_MODEL_NAME)"
   ]
  },
  {
   "cell_type": "code",
   "execution_count": 7,
   "metadata": {},
   "outputs": [],
   "source": [
    "m2f_processor.save_pretrained(\"./base_models/facebook-m2f_swin_large\")\n",
    "m2f.save_pretrained(\"./base_models/facebook-m2f_swin_large\")"
   ]
  }
 ],
 "metadata": {
  "kernelspec": {
   "display_name": "base",
   "language": "python",
   "name": "python3"
  },
  "language_info": {
   "codemirror_mode": {
    "name": "ipython",
    "version": 3
   },
   "file_extension": ".py",
   "mimetype": "text/x-python",
   "name": "python",
   "nbconvert_exporter": "python",
   "pygments_lexer": "ipython3",
   "version": "3.11.4"
  }
 },
 "nbformat": 4,
 "nbformat_minor": 2
}
